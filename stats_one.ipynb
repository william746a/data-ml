{
 "cells": [
  {
   "cell_type": "code",
   "id": "initial_id",
   "metadata": {
    "collapsed": true,
    "ExecuteTime": {
     "end_time": "2025-07-04T12:19:41.144436Z",
     "start_time": "2025-07-04T12:19:41.132968Z"
    }
   },
   "source": [
    "num_defects =  [99, 52, 42, 44, 27, 22, 22, 24, 22, 21,\n",
    "                21, 18, 18, 15, 19, 19, 18, 17, 18, 16,\n",
    "                16, 17, 18, 15, 15, 13, 11, 14, 14, 13,\n",
    "                14, 14, 14, 13, 14, 14, 14, 14, 12, 14,\n",
    "                13, 12, 11, 12, 13, 13, 12, 13, 11, 13,\n",
    "                11, 12, 12, 10, 10, 11, 12, 13, 10, 12,\n",
    "                11, 10, 12, 12, 11, 11, 9, 9, 9, 11,\n",
    "                12, 8, 8, 10, 8, 10, 11, 10, 9, 10,\n",
    "                10, 8, 8, 11, 10, 9, 8, 8, 10, 10,\n",
    "                7, 7, 7, 8, 8, 7, 7, 8, 7, 7,\n",
    "                9, 7, 7, 10, 7, 8, 9, 9, 6, 6,\n",
    "                8, 8, 9, 7, 7, 9, 6, 8, 9, 8,\n",
    "                9, 9, 6, 8, 9, 7, 8, 6, 8, 6,\n",
    "                6, 6, 6, 6, 6, 8, 7, 8, 7, 5,\n",
    "                6, 8, 8, 8, 8, 5, 4, 6, 6, 4,\n",
    "                6, 6, 4, 5, 7, 5, 7, 6, 5, 4,\n",
    "                6, 4, 7, 5, 6, 4, 4, 6, 6, 3,\n",
    "                5, 6, 6, 4, 6, 3, 3, 3, 5, 5,\n",
    "                5, 3, 2, 5, 2, 3, 2, 4, 3, 2,\n",
    "                5, 2, 2, 2, 3, 4, 4, 4, 5, 5,\n",
    "                3, 5, 4, 2]"
   ],
   "outputs": [],
   "execution_count": 3
  },
  {
   "metadata": {
    "ExecuteTime": {
     "end_time": "2025-07-04T12:19:41.615688Z",
     "start_time": "2025-07-04T12:19:41.199703Z"
    }
   },
   "cell_type": "code",
   "source": [
    "# The following enables inline plots\n",
    "# and import matplotlib.pyplot uses plt as an alias\n",
    "\n",
    "%matplotlib inline\n",
    "import matplotlib.pyplot as plt"
   ],
   "id": "4ec7dd0bbe766b49",
   "outputs": [],
   "execution_count": 4
  },
  {
   "metadata": {
    "ExecuteTime": {
     "end_time": "2025-07-04T12:19:41.628474Z",
     "start_time": "2025-07-04T12:19:41.626640Z"
    }
   },
   "cell_type": "code",
   "source": [
    "# importing the Counter class helps us simplify the counting process\n",
    "\n",
    "from collections import Counter"
   ],
   "id": "4b9cfa4d41d4ced9",
   "outputs": [],
   "execution_count": 5
  },
  {
   "metadata": {
    "ExecuteTime": {
     "end_time": "2025-07-04T12:19:41.677147Z",
     "start_time": "2025-07-04T12:19:41.674830Z"
    }
   },
   "cell_type": "code",
   "source": [
    "def data_range(x):\n",
    "    \"\"\"\n",
    "    Returns the range (i.e. the difference) between the highest and lowest values\n",
    "    :param x:\n",
    "    :return:\n",
    "    \"\"\"\n",
    "\n",
    "    return max(x) - min(x)"
   ],
   "id": "1baf8c30f7b94649",
   "outputs": [],
   "execution_count": 6
  },
  {
   "metadata": {
    "ExecuteTime": {
     "end_time": "2025-07-04T12:19:41.736406Z",
     "start_time": "2025-07-04T12:19:41.732219Z"
    }
   },
   "cell_type": "code",
   "source": "data_range([5, 3, 4, 2, 1])",
   "id": "78e0dfcd4c0e74ec",
   "outputs": [
    {
     "data": {
      "text/plain": [
       "4"
      ]
     },
     "execution_count": 7,
     "metadata": {},
     "output_type": "execute_result"
    }
   ],
   "execution_count": 7
  },
  {
   "metadata": {
    "ExecuteTime": {
     "end_time": "2025-07-04T12:19:41.794520Z",
     "start_time": "2025-07-04T12:19:41.791353Z"
    }
   },
   "cell_type": "code",
   "source": "data_range(num_defects)",
   "id": "871a72bebf41d809",
   "outputs": [
    {
     "data": {
      "text/plain": [
       "97"
      ]
     },
     "execution_count": 8,
     "metadata": {},
     "output_type": "execute_result"
    }
   ],
   "execution_count": 8
  },
  {
   "metadata": {
    "ExecuteTime": {
     "end_time": "2025-07-04T12:19:41.852009Z",
     "start_time": "2025-07-04T12:19:41.849753Z"
    }
   },
   "cell_type": "code",
   "source": [
    "def quantile(values, percentile):\n",
    "    \"\"\"\n",
    "    Returns the pth-percentile value in a sequence of values\n",
    "    :param values:\n",
    "    :param percentile:\n",
    "    :return:\n",
    "    \"\"\"\n",
    "\n",
    "    p_index = int(len(values) * percentile)\n",
    "    return sorted(values)[p_index]"
   ],
   "id": "ee23d5067eb1289a",
   "outputs": [],
   "execution_count": 9
  },
  {
   "metadata": {
    "ExecuteTime": {
     "end_time": "2025-07-04T12:19:41.905692Z",
     "start_time": "2025-07-04T12:19:41.902696Z"
    }
   },
   "cell_type": "code",
   "source": [
    "# Given a sequence of values, we can calculate a given quantile.\n",
    "# In this case, we calculate the quantile at the halfway mark (50% OR 0.5)\n",
    "#     or roughly the median.\n",
    "\n",
    "grades1 = [85, 87, 89, 55, 65, 67, 75, 80, 91, 96]        # ten values\n",
    "\n",
    "quantile(grades1, .5)"
   ],
   "id": "3e742afe48698de8",
   "outputs": [
    {
     "data": {
      "text/plain": [
       "85"
      ]
     },
     "execution_count": 10,
     "metadata": {},
     "output_type": "execute_result"
    }
   ],
   "execution_count": 10
  },
  {
   "metadata": {
    "ExecuteTime": {
     "end_time": "2025-07-04T12:19:41.963037Z",
     "start_time": "2025-07-04T12:19:41.959953Z"
    }
   },
   "cell_type": "code",
   "source": [
    "grades2 = [85, 87, 89, 55, 65, 67, 75, 80, 91, 96, 99]    # eleven values\n",
    "\n",
    "quantile(grades2, .5)\n",
    "\n",
    "# NOTE: As described above, this function lacks some details\n",
    "#     it is less detailed than even our median function\n",
    "#     and does NOT account for the length of the dataset in\n",
    "#     terms of odd/even num of values"
   ],
   "id": "eaac0defb837b1f8",
   "outputs": [
    {
     "data": {
      "text/plain": [
       "85"
      ]
     },
     "execution_count": 11,
     "metadata": {},
     "output_type": "execute_result"
    }
   ],
   "execution_count": 11
  },
  {
   "metadata": {
    "ExecuteTime": {
     "end_time": "2025-07-04T12:19:42.021051Z",
     "start_time": "2025-07-04T12:19:42.018568Z"
    }
   },
   "cell_type": "code",
   "source": [
    "# While not as sophisticated as our median calc,\n",
    "#     we can generally calculate other quantiles, such as the\n",
    "#     the 25th percentile\n",
    "#     or the 75th percentile\n",
    "#     i.e. the quartiles\n",
    "\n",
    "print('25%: ', quantile(grades2, .25))\n",
    "print('75%: ', quantile(grades2, .75))\n",
    "\n",
    "# sorted for comparison: [55, 65, 67, 75, 80, 85, 87, 89, 91, 96, 99]"
   ],
   "id": "d1dd1cf02f04ebed",
   "outputs": [
    {
     "name": "stdout",
     "output_type": "stream",
     "text": [
      "25%:  67\n",
      "75%:  91\n"
     ]
    }
   ],
   "execution_count": 12
  },
  {
   "metadata": {
    "ExecuteTime": {
     "end_time": "2025-07-04T12:19:42.075298Z",
     "start_time": "2025-07-04T12:19:42.072930Z"
    }
   },
   "cell_type": "code",
   "source": [
    "for percent in [0.10, 0.25, 0.75, 0.90, 0.999]:\n",
    "    q = quantile(num_defects, percent)\n",
    "\n",
    "    print('Percent: {}\\t{}'.format(percent, q))"
   ],
   "id": "81ef1193dd3ffe80",
   "outputs": [
    {
     "name": "stdout",
     "output_type": "stream",
     "text": [
      "Percent: 0.1\t4\n",
      "Percent: 0.25\t6\n",
      "Percent: 0.75\t12\n",
      "Percent: 0.9\t16\n",
      "Percent: 0.999\t99\n"
     ]
    }
   ],
   "execution_count": 13
  },
  {
   "metadata": {
    "ExecuteTime": {
     "end_time": "2025-07-04T12:19:42.132315Z",
     "start_time": "2025-07-04T12:19:42.130021Z"
    }
   },
   "cell_type": "code",
   "source": [
    "def interquartile_range(values, upper_bound=0.75, lower_bound=0.25):\n",
    "    \"\"\"\n",
    "    Return the difference between the 75% and 25% percentiles\n",
    "    :param values:\n",
    "    :return:\n",
    "    \"\"\"\n",
    "\n",
    "    return quantile(values, upper_bound) - quantile(values, lower_bound)"
   ],
   "id": "a7055d7b707f17fc",
   "outputs": [],
   "execution_count": 14
  },
  {
   "metadata": {
    "ExecuteTime": {
     "end_time": "2025-07-04T12:19:42.184304Z",
     "start_time": "2025-07-04T12:19:42.181896Z"
    }
   },
   "cell_type": "code",
   "source": [
    "values = [1, 2, 3, 4, 5, 6, 7, 8, 9, 10]\n",
    "\n",
    "# Let's first just confirm the quantile VALUES at the 25% and 75% cut points\n",
    "print(quantile(values, 0.25), '<->', quantile(values, 0.75))"
   ],
   "id": "cc22206fc156780f",
   "outputs": [
    {
     "name": "stdout",
     "output_type": "stream",
     "text": [
      "3 <-> 8\n"
     ]
    }
   ],
   "execution_count": 15
  },
  {
   "metadata": {
    "ExecuteTime": {
     "end_time": "2025-07-04T12:19:42.241573Z",
     "start_time": "2025-07-04T12:19:42.239307Z"
    }
   },
   "cell_type": "code",
   "source": [
    "# Now, let's calculate the interquartile range\n",
    "\n",
    "print(interquartile_range(values))"
   ],
   "id": "3f21d903db459da3",
   "outputs": [
    {
     "name": "stdout",
     "output_type": "stream",
     "text": [
      "5\n"
     ]
    }
   ],
   "execution_count": 16
  },
  {
   "metadata": {
    "ExecuteTime": {
     "end_time": "2025-07-04T12:19:42.302185Z",
     "start_time": "2025-07-04T12:19:42.299322Z"
    }
   },
   "cell_type": "code",
   "source": [
    "# We can calculate the interquartile range for our defects data (presuming 75% and 25%)\n",
    "\n",
    "interquartile_range(num_defects)"
   ],
   "id": "5f99da3b8b1800de",
   "outputs": [
    {
     "data": {
      "text/plain": [
       "6"
      ]
     },
     "execution_count": 17,
     "metadata": {},
     "output_type": "execute_result"
    }
   ],
   "execution_count": 17
  },
  {
   "metadata": {
    "ExecuteTime": {
     "end_time": "2025-07-04T12:19:42.362371Z",
     "start_time": "2025-07-04T12:19:42.360079Z"
    }
   },
   "cell_type": "code",
   "source": [
    "def mean(values):\n",
    "    \"\"\"\n",
    "    Return the mean (or average) of a sequence of values.\n",
    "\n",
    "    >>> mean([1, 2, 3, 4])\n",
    "    2.5\n",
    "\n",
    "    >>> mean([1, 2, 3, 4, 5])\n",
    "    3.0\n",
    "\n",
    "    \"\"\"\n",
    "    return sum(values) / len(values)"
   ],
   "id": "ff9c394d7efa7056",
   "outputs": [],
   "execution_count": 18
  },
  {
   "metadata": {
    "ExecuteTime": {
     "end_time": "2025-07-04T12:19:42.413758Z",
     "start_time": "2025-07-04T12:19:42.411487Z"
    }
   },
   "cell_type": "code",
   "source": [
    "def diff_mean(values):\n",
    "    \"\"\"\n",
    "    Calculate the difference from the mean for every value in a sequence of values\n",
    "    :param values:\n",
    "    :return:\n",
    "    \"\"\"\n",
    "\n",
    "    x_bar = mean(values)\n",
    "    return [value - x_bar for value in values]"
   ],
   "id": "7b80e9598617679a",
   "outputs": [],
   "execution_count": 19
  },
  {
   "metadata": {
    "ExecuteTime": {
     "end_time": "2025-07-04T12:19:42.464664Z",
     "start_time": "2025-07-04T12:19:42.462360Z"
    }
   },
   "cell_type": "code",
   "source": [
    "def variance(values):\n",
    "    \"\"\"\n",
    "    Return the variance of a sequence of values.\n",
    "\n",
    "    NOTE:  this function presumes that values has a minimum of two elements.\n",
    "    :param values:\n",
    "    :return:\n",
    "    \"\"\"\n",
    "\n",
    "    n = len(values)\n",
    "    deviations = diff_mean(values)\n",
    "    squared_diffs = [d ** 2 for d in deviations]\n",
    "    sum_of_squares = sum(squared_diffs)\n",
    "\n",
    "    return sum_of_squares / n"
   ],
   "id": "981d1c7ff8c05862",
   "outputs": [],
   "execution_count": 20
  },
  {
   "metadata": {
    "ExecuteTime": {
     "end_time": "2025-07-04T12:20:48.641143Z",
     "start_time": "2025-07-04T12:20:48.637928Z"
    }
   },
   "cell_type": "code",
   "source": [
    "defect_counts = Counter(num_defects)\n",
    "\n",
    "for defect_count, freq in defect_counts.most_common():\n",
    "    print(defect_count, '> ', freq)"
   ],
   "id": "88c7a99daf337ecd",
   "outputs": [
    {
     "name": "stdout",
     "output_type": "stream",
     "text": [
      "8 >  24\n",
      "6 >  24\n",
      "7 >  18\n",
      "5 >  15\n",
      "9 >  14\n",
      "10 >  13\n",
      "4 >  13\n",
      "11 >  11\n",
      "12 >  11\n",
      "14 >  10\n",
      "13 >  9\n",
      "3 >  9\n",
      "2 >  8\n",
      "18 >  5\n",
      "22 >  3\n",
      "15 >  3\n",
      "21 >  2\n",
      "19 >  2\n",
      "17 >  2\n",
      "16 >  2\n",
      "99 >  1\n",
      "52 >  1\n",
      "42 >  1\n",
      "44 >  1\n",
      "27 >  1\n",
      "24 >  1\n"
     ]
    }
   ],
   "execution_count": 21
  },
  {
   "metadata": {
    "ExecuteTime": {
     "end_time": "2025-07-04T12:22:05.416828Z",
     "start_time": "2025-07-04T12:22:05.413948Z"
    }
   },
   "cell_type": "code",
   "source": [
    "x_values = list(range(101))\n",
    "y_values = [defect_counts[x] for x in x_values]\n",
    "\n",
    "print(x_values)\n",
    "print()\n",
    "print(y_values)"
   ],
   "id": "14f24ac73b0bbc2e",
   "outputs": [
    {
     "name": "stdout",
     "output_type": "stream",
     "text": [
      "[0, 1, 2, 3, 4, 5, 6, 7, 8, 9, 10, 11, 12, 13, 14, 15, 16, 17, 18, 19, 20, 21, 22, 23, 24, 25, 26, 27, 28, 29, 30, 31, 32, 33, 34, 35, 36, 37, 38, 39, 40, 41, 42, 43, 44, 45, 46, 47, 48, 49, 50, 51, 52, 53, 54, 55, 56, 57, 58, 59, 60, 61, 62, 63, 64, 65, 66, 67, 68, 69, 70, 71, 72, 73, 74, 75, 76, 77, 78, 79, 80, 81, 82, 83, 84, 85, 86, 87, 88, 89, 90, 91, 92, 93, 94, 95, 96, 97, 98, 99, 100]\n",
      "\n",
      "[0, 0, 8, 9, 13, 15, 24, 18, 24, 14, 13, 11, 11, 9, 10, 3, 2, 2, 5, 2, 0, 2, 3, 0, 1, 0, 0, 1, 0, 0, 0, 0, 0, 0, 0, 0, 0, 0, 0, 0, 0, 0, 1, 0, 1, 0, 0, 0, 0, 0, 0, 0, 1, 0, 0, 0, 0, 0, 0, 0, 0, 0, 0, 0, 0, 0, 0, 0, 0, 0, 0, 0, 0, 0, 0, 0, 0, 0, 0, 0, 0, 0, 0, 0, 0, 0, 0, 0, 0, 0, 0, 0, 0, 0, 0, 0, 0, 0, 0, 1, 0]\n"
     ]
    }
   ],
   "execution_count": 22
  },
  {
   "metadata": {
    "ExecuteTime": {
     "end_time": "2025-07-04T12:54:38.927812Z",
     "start_time": "2025-07-04T12:54:38.779706Z"
    }
   },
   "cell_type": "code",
   "source": [
    "plt.figure(figsize=(12, 10))\n",
    "plt.bar(x_values, y_values)\n",
    "plt.axis([0, 105, 0, 25])\n",
    "plt.title('Frequency of Defect Counts')\n",
    "plt.xlabel('# of defects')\n",
    "plt.ylabel('# of batches')\n",
    "plt.show()"
   ],
   "id": "4c810b6b4f0368e0",
   "outputs": [
    {
     "data": {
      "text/plain": [
       "<Figure size 1200x1000 with 1 Axes>"
      ],
      "image/png": "[encoded data removed]"
     },
     "metadata": {},
     "output_type": "display_data"
    }
   ],
   "execution_count": 23
  },
  {
   "metadata": {
    "ExecuteTime": {
     "end_time": "2025-07-04T12:57:57.195743Z",
     "start_time": "2025-07-04T12:57:57.192916Z"
    }
   },
   "cell_type": "code",
   "source": [
    "num_points = len(num_defects)\n",
    "\n",
    "print('Number of data points: ', num_points)\n",
    "\n",
    "largest_value = max(num_defects)\n",
    "smallest_value = min(num_defects)\n",
    "\n",
    "print('Largest value: ', largest_value)\n",
    "print('Smallest value: ', smallest_value)"
   ],
   "id": "a66cb27c6b5faa8",
   "outputs": [
    {
     "name": "stdout",
     "output_type": "stream",
     "text": [
      "Number of data points:  204\n",
      "Largest value:  99\n",
      "Smallest value:  2\n"
     ]
    }
   ],
   "execution_count": 24
  },
  {
   "metadata": {
    "ExecuteTime": {
     "end_time": "2025-07-04T13:37:20.920711Z",
     "start_time": "2025-07-04T13:37:20.903865Z"
    }
   },
   "cell_type": "code",
   "source": [
    "def median(values):\n",
    "    sorted_values = sorted(values)\n",
    "    num = len(values)\n",
    "    center = num // 2\n",
    "\n",
    "    if num % 2 == 1:\n",
    "        # return the center value if n is odd\n",
    "        return sorted_values[center]\n",
    "    else:\n",
    "        c1 = center - 1\n",
    "        c2 = center\n",
    "        return (sorted_values[c1] + sorted_values[c2]) / 2"
   ],
   "id": "e708a02caa784fb6",
   "outputs": [],
   "execution_count": 25
  },
  {
   "metadata": {
    "ExecuteTime": {
     "end_time": "2025-07-04T13:40:22.470947Z",
     "start_time": "2025-07-04T13:40:22.468074Z"
    }
   },
   "cell_type": "code",
   "source": [
    "odd = [1, 2, 3]\n",
    "print('median of odd: ', median(odd))\n",
    "\n",
    "even = [42, 1, 5, 6]\n",
    "print('median of even: ', median(even))\n",
    "\n",
    "print('median of defects: ', median(num_defects))"
   ],
   "id": "6f71bd5784a4a14b",
   "outputs": [
    {
     "name": "stdout",
     "output_type": "stream",
     "text": [
      "median of odd:  2\n",
      "median of even:  5.5\n",
      "median of defects:  8.0\n"
     ]
    }
   ],
   "execution_count": 28
  },
  {
   "metadata": {
    "ExecuteTime": {
     "end_time": "2025-07-04T13:41:54.733379Z",
     "start_time": "2025-07-04T13:41:54.730264Z"
    }
   },
   "cell_type": "code",
   "source": [
    "def mode(values):\n",
    "    mode_values = {}\n",
    "    counts = Counter(values)\n",
    "    max_value = max(counts.values())\n",
    "\n",
    "    return [value for value, count in counts.items() if count == max_value]"
   ],
   "id": "c58eb1070ed17db1",
   "outputs": [],
   "execution_count": 29
  },
  {
   "metadata": {
    "ExecuteTime": {
     "end_time": "2025-07-04T13:43:12.193454Z",
     "start_time": "2025-07-04T13:43:12.190217Z"
    }
   },
   "cell_type": "code",
   "source": [
    "print('single most frequent: ', mode([1, 2, 3, 4, 4, 4]))\n",
    "print('double most frequent: ', mode([1, 1, 1, 2, 3, 4, 5, 5, 5]))\n",
    "print('most frequent in defects: ', mode(num_defects))"
   ],
   "id": "ba56a499423041a2",
   "outputs": [
    {
     "name": "stdout",
     "output_type": "stream",
     "text": [
      "single most frequent:  [4]\n",
      "double most frequent:  [1, 5]\n",
      "most frequent in defects:  [8, 6]\n"
     ]
    }
   ],
   "execution_count": 30
  },
  {
   "metadata": {
    "ExecuteTime": {
     "end_time": "2025-07-04T13:53:30.358654Z",
     "start_time": "2025-07-04T13:53:30.354970Z"
    }
   },
   "cell_type": "code",
   "source": [
    "def freq_table(values):\n",
    "    frequencies = Counter(values)\n",
    "    print('{:<10}\\t{:<10}'.format('Value', 'Frequency'))\n",
    "\n",
    "    for value, count in frequencies.most_common():\n",
    "        print('{:<10}\\t{:<10}'.format(value, count))"
   ],
   "id": "9d06801d48881178",
   "outputs": [],
   "execution_count": 34
  },
  {
   "metadata": {
    "ExecuteTime": {
     "end_time": "2025-07-04T13:53:34.401884Z",
     "start_time": "2025-07-04T13:53:34.398881Z"
    }
   },
   "cell_type": "code",
   "source": [
    "freq_table([7, 8, 9, 9, 9, 6, 6])\n",
    "freq_table(num_defects)"
   ],
   "id": "7bb1a0c026919ae9",
   "outputs": [
    {
     "name": "stdout",
     "output_type": "stream",
     "text": [
      "Value     \tFrequency \n",
      "9         \t3         \n",
      "6         \t2         \n",
      "7         \t1         \n",
      "8         \t1         \n",
      "Value     \tFrequency \n",
      "8         \t24        \n",
      "6         \t24        \n",
      "7         \t18        \n",
      "5         \t15        \n",
      "9         \t14        \n",
      "10        \t13        \n",
      "4         \t13        \n",
      "11        \t11        \n",
      "12        \t11        \n",
      "14        \t10        \n",
      "13        \t9         \n",
      "3         \t9         \n",
      "2         \t8         \n",
      "18        \t5         \n",
      "22        \t3         \n",
      "15        \t3         \n",
      "21        \t2         \n",
      "19        \t2         \n",
      "17        \t2         \n",
      "16        \t2         \n",
      "99        \t1         \n",
      "52        \t1         \n",
      "42        \t1         \n",
      "44        \t1         \n",
      "27        \t1         \n",
      "24        \t1         \n"
     ]
    }
   ],
   "execution_count": 35
  },
  {
   "metadata": {
    "ExecuteTime": {
     "end_time": "2025-07-04T17:03:44.802987Z",
     "start_time": "2025-07-04T17:03:44.784314Z"
    }
   },
   "cell_type": "code",
   "source": [
    "def data_range(values):\n",
    "    return max(values) - min(values)"
   ],
   "id": "e597cb1c54919e0f",
   "outputs": [],
   "execution_count": 36
  },
  {
   "metadata": {
    "ExecuteTime": {
     "end_time": "2025-07-04T17:03:50.643812Z",
     "start_time": "2025-07-04T17:03:50.636327Z"
    }
   },
   "cell_type": "code",
   "source": "data_range(num_defects)",
   "id": "9851e1caaeb2ca7",
   "outputs": [
    {
     "data": {
      "text/plain": [
       "97"
      ]
     },
     "execution_count": 37,
     "metadata": {},
     "output_type": "execute_result"
    }
   ],
   "execution_count": 37
  },
  {
   "metadata": {
    "ExecuteTime": {
     "end_time": "2025-07-04T17:29:30.008184Z",
     "start_time": "2025-07-04T17:29:30.003218Z"
    }
   },
   "cell_type": "code",
   "source": [
    "#quantiles are a way to mitigate the susceptibility of the simple spread to outliers\n",
    "def quantile(values, percentile):\n",
    "    # index of quantile boundary is the length of the values times the percentile, coerced to an int\n",
    "    p_index = int(len(values) * percentile)\n",
    "    return sorted(values)[p_index]"
   ],
   "id": "ba25eabf7d7a1c74",
   "outputs": [],
   "execution_count": 38
  },
  {
   "metadata": {
    "ExecuteTime": {
     "end_time": "2025-07-04T17:36:08.591206Z",
     "start_time": "2025-07-04T17:36:08.587595Z"
    }
   },
   "cell_type": "code",
   "source": [
    "print(quantile(grades1, .5))\n",
    "print(quantile(grades2, .5))\n",
    "print('25%: ', quantile(grades2, .25))\n",
    "print('75%: ', quantile(grades2, .75))"
   ],
   "id": "3bc1c3d9d9f14fdf",
   "outputs": [
    {
     "name": "stdout",
     "output_type": "stream",
     "text": [
      "85\n",
      "85\n",
      "25%:  67\n",
      "75%:  91\n"
     ]
    }
   ],
   "execution_count": 40
  },
  {
   "metadata": {
    "ExecuteTime": {
     "end_time": "2025-07-04T17:42:36.548907Z",
     "start_time": "2025-07-04T17:42:36.545258Z"
    }
   },
   "cell_type": "code",
   "source": [
    "for percent in [0.10, 0.25, 0.75, 0.90, 0.999]:\n",
    "    q = quantile(num_defects, percent)\n",
    "    print('Percent: {}\\t{}'.format(percent, q))"
   ],
   "id": "774bd1617709a894",
   "outputs": [
    {
     "name": "stdout",
     "output_type": "stream",
     "text": [
      "Percent: 0.1\t4\n",
      "Percent: 0.25\t6\n",
      "Percent: 0.75\t12\n",
      "Percent: 0.9\t16\n",
      "Percent: 0.999\t99\n"
     ]
    }
   ],
   "execution_count": 41
  },
  {
   "metadata": {},
   "cell_type": "code",
   "outputs": [],
   "execution_count": null,
   "source": "def inter",
   "id": "7cbfa53961e93aa1"
  }
 ],
 "metadata": {
  "kernelspec": {
   "display_name": "Python 3",
   "language": "python",
   "name": "python3"
  },
  "language_info": {
   "codemirror_mode": {
    "name": "ipython",
    "version": 2
   },
   "file_extension": ".py",
   "mimetype": "text/x-python",
   "name": "python",
   "nbconvert_exporter": "python",
   "pygments_lexer": "ipython2",
   "version": "2.7.6"
  }
 },
 "nbformat": 4,
 "nbformat_minor": 5
}
