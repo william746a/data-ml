{
 "cells": [
  {
   "cell_type": "code",
   "id": "initial_id",
   "metadata": {
    "collapsed": true,
    "ExecuteTime": {
     "end_time": "2025-03-24T23:06:38.951437Z",
     "start_time": "2025-03-24T23:06:38.943650Z"
    }
   },
   "source": [
    "num_defects =  [99, 52, 42, 44, 27, 22, 22, 24, 22, 21,\n",
    "                21, 18, 18, 15, 19, 19, 18, 17, 18, 16,\n",
    "                16, 17, 18, 15, 15, 13, 11, 14, 14, 13,\n",
    "                14, 14, 14, 13, 14, 14, 14, 14, 12, 14,\n",
    "                13, 12, 11, 12, 13, 13, 12, 13, 11, 13,\n",
    "                11, 12, 12, 10, 10, 11, 12, 13, 10, 12,\n",
    "                11, 10, 12, 12, 11, 11, 9, 9, 9, 11,\n",
    "                12, 8, 8, 10, 8, 10, 11, 10, 9, 10,\n",
    "                10, 8, 8, 11, 10, 9, 8, 8, 10, 10,\n",
    "                7, 7, 7, 8, 8, 7, 7, 8, 7, 7,\n",
    "                9, 7, 7, 10, 7, 8, 9, 9, 6, 6,\n",
    "                8, 8, 9, 7, 7, 9, 6, 8, 9, 8,\n",
    "                9, 9, 6, 8, 9, 7, 8, 6, 8, 6,\n",
    "                6, 6, 6, 6, 6, 8, 7, 8, 7, 5,\n",
    "                6, 8, 8, 8, 8, 5, 4, 6, 6, 4,\n",
    "                6, 6, 4, 5, 7, 5, 7, 6, 5, 4,\n",
    "                6, 4, 7, 5, 6, 4, 4, 6, 6, 3,\n",
    "                5, 6, 6, 4, 6, 3, 3, 3, 5, 5,\n",
    "                5, 3, 2, 5, 2, 3, 2, 4, 3, 2,\n",
    "                5, 2, 2, 2, 3, 4, 4, 4, 5, 5,\n",
    "                3, 5, 4, 2]"
   ],
   "outputs": [],
   "execution_count": 1
  },
  {
   "metadata": {
    "ExecuteTime": {
     "end_time": "2025-03-24T23:12:48.570299Z",
     "start_time": "2025-03-24T23:12:47.585142Z"
    }
   },
   "cell_type": "code",
   "source": [
    "# The following enables inline plots\n",
    "# and import matplotlib.pyplot uses plt as an alias\n",
    "\n",
    "%matplotlib inline\n",
    "import matplotlib.pyplot as plt"
   ],
   "id": "4ec7dd0bbe766b49",
   "outputs": [],
   "execution_count": 3
  },
  {
   "metadata": {
    "ExecuteTime": {
     "end_time": "2025-03-24T23:13:05.584588Z",
     "start_time": "2025-03-24T23:13:05.581587Z"
    }
   },
   "cell_type": "code",
   "source": [
    "# importing the Counter class helps us simplify the counting process\n",
    "\n",
    "from collections import Counter"
   ],
   "id": "4b9cfa4d41d4ced9",
   "outputs": [],
   "execution_count": 4
  },
  {
   "metadata": {
    "ExecuteTime": {
     "end_time": "2025-03-24T23:14:28.044082Z",
     "start_time": "2025-03-24T23:14:28.039804Z"
    }
   },
   "cell_type": "code",
   "source": [
    "def data_range(x):\n",
    "    \"\"\"\n",
    "    Returns the range (i.e. the difference) between the highest and lowest values\n",
    "    :param x:\n",
    "    :return:\n",
    "    \"\"\"\n",
    "\n",
    "    return max(x) - min(x)"
   ],
   "id": "1baf8c30f7b94649",
   "outputs": [],
   "execution_count": 5
  },
  {
   "metadata": {
    "ExecuteTime": {
     "end_time": "2025-03-24T23:15:23.881944Z",
     "start_time": "2025-03-24T23:15:23.877049Z"
    }
   },
   "cell_type": "code",
   "source": "data_range([5, 3, 4, 2, 1])",
   "id": "78e0dfcd4c0e74ec",
   "outputs": [
    {
     "data": {
      "text/plain": [
       "4"
      ]
     },
     "execution_count": 6,
     "metadata": {},
     "output_type": "execute_result"
    }
   ],
   "execution_count": 6
  },
  {
   "metadata": {
    "ExecuteTime": {
     "end_time": "2025-03-24T23:15:36.125238Z",
     "start_time": "2025-03-24T23:15:36.120857Z"
    }
   },
   "cell_type": "code",
   "source": "data_range(num_defects)",
   "id": "871a72bebf41d809",
   "outputs": [
    {
     "data": {
      "text/plain": [
       "97"
      ]
     },
     "execution_count": 7,
     "metadata": {},
     "output_type": "execute_result"
    }
   ],
   "execution_count": 7
  },
  {
   "metadata": {
    "ExecuteTime": {
     "end_time": "2025-03-24T23:24:26.629Z",
     "start_time": "2025-03-24T23:24:26.625929Z"
    }
   },
   "cell_type": "code",
   "source": [
    "def quantile(values, percentile):\n",
    "    \"\"\"\n",
    "    Returns the pth-percentile value in a sequence of values\n",
    "    :param values:\n",
    "    :param percentile:\n",
    "    :return:\n",
    "    \"\"\"\n",
    "\n",
    "    p_index = int(len(values) * percentile)\n",
    "    return sorted(values)[p_index]"
   ],
   "id": "ee23d5067eb1289a",
   "outputs": [],
   "execution_count": 8
  },
  {
   "metadata": {
    "ExecuteTime": {
     "end_time": "2025-03-24T23:24:47.592889Z",
     "start_time": "2025-03-24T23:24:47.587891Z"
    }
   },
   "cell_type": "code",
   "source": [
    "# Given a sequence of values, we can calculate a given quantile.\n",
    "# In this case, we calculate the quantile at the halfway mark (50% OR 0.5)\n",
    "#     or roughly the median.\n",
    "\n",
    "grades1 = [85, 87, 89, 55, 65, 67, 75, 80, 91, 96]        # ten values\n",
    "\n",
    "quantile(grades1, .5)"
   ],
   "id": "3e742afe48698de8",
   "outputs": [
    {
     "data": {
      "text/plain": [
       "85"
      ]
     },
     "execution_count": 9,
     "metadata": {},
     "output_type": "execute_result"
    }
   ],
   "execution_count": 9
  },
  {
   "metadata": {
    "ExecuteTime": {
     "end_time": "2025-03-24T23:25:56.932155Z",
     "start_time": "2025-03-24T23:25:56.927079Z"
    }
   },
   "cell_type": "code",
   "source": [
    "grades2 = [85, 87, 89, 55, 65, 67, 75, 80, 91, 96, 99]    # eleven values\n",
    "\n",
    "quantile(grades2, .5)\n",
    "\n",
    "# NOTE: As described above, this function lacks some details\n",
    "#     it is less detailed than even our median function\n",
    "#     and does NOT account for the length of the dataset in\n",
    "#     terms of odd/even num of values"
   ],
   "id": "eaac0defb837b1f8",
   "outputs": [
    {
     "data": {
      "text/plain": [
       "85"
      ]
     },
     "execution_count": 10,
     "metadata": {},
     "output_type": "execute_result"
    }
   ],
   "execution_count": 10
  },
  {
   "metadata": {
    "ExecuteTime": {
     "end_time": "2025-03-24T23:26:36.387232Z",
     "start_time": "2025-03-24T23:26:36.383928Z"
    }
   },
   "cell_type": "code",
   "source": [
    "# While not as sophisticated as our median calc,\n",
    "#     we can generally calculate other quantiles, such as the\n",
    "#     the 25th percentile\n",
    "#     or the 75th percentile\n",
    "#     i.e. the quartiles\n",
    "\n",
    "print('25%: ', quantile(grades2, .25))\n",
    "print('75%: ', quantile(grades2, .75))\n",
    "\n",
    "# sorted for comparison: [55, 65, 67, 75, 80, 85, 87, 89, 91, 96, 99]"
   ],
   "id": "d1dd1cf02f04ebed",
   "outputs": [
    {
     "name": "stdout",
     "output_type": "stream",
     "text": [
      "25%:  67\n",
      "75%:  91\n"
     ]
    }
   ],
   "execution_count": 11
  },
  {
   "metadata": {
    "ExecuteTime": {
     "end_time": "2025-03-24T23:29:49.103116Z",
     "start_time": "2025-03-24T23:29:49.099982Z"
    }
   },
   "cell_type": "code",
   "source": [
    "for percent in [0.10, 0.25, 0.75, 0.90, 0.999]:\n",
    "    q = quantile(num_defects, percent)\n",
    "\n",
    "    print('Percent: {}\\t{}'.format(percent, q))"
   ],
   "id": "81ef1193dd3ffe80",
   "outputs": [
    {
     "name": "stdout",
     "output_type": "stream",
     "text": [
      "Percent: 0.1\t4\n",
      "Percent: 0.25\t6\n",
      "Percent: 0.75\t12\n",
      "Percent: 0.9\t16\n",
      "Percent: 0.999\t99\n"
     ]
    }
   ],
   "execution_count": 12
  },
  {
   "metadata": {
    "ExecuteTime": {
     "end_time": "2025-03-24T23:43:53.306888Z",
     "start_time": "2025-03-24T23:43:53.303887Z"
    }
   },
   "cell_type": "code",
   "source": [
    "def interquartile_range(values, upper_bound=0.75, lower_bound=0.25):\n",
    "    \"\"\"\n",
    "    Return the difference between the 75% and 25% percentiles\n",
    "    :param values:\n",
    "    :return:\n",
    "    \"\"\"\n",
    "\n",
    "    return quantile(values, upper_bound) - quantile(values, lower_bound)"
   ],
   "id": "a7055d7b707f17fc",
   "outputs": [],
   "execution_count": 17
  },
  {
   "metadata": {
    "ExecuteTime": {
     "end_time": "2025-03-24T23:38:06.450336Z",
     "start_time": "2025-03-24T23:38:06.446298Z"
    }
   },
   "cell_type": "code",
   "source": [
    "values = [1, 2, 3, 4, 5, 6, 7, 8, 9, 10]\n",
    "\n",
    "# Let's first just confirm the quantile VALUES at the 25% and 75% cut points\n",
    "print(quantile(values, 0.25), '<->', quantile(values, 0.75))"
   ],
   "id": "cc22206fc156780f",
   "outputs": [
    {
     "name": "stdout",
     "output_type": "stream",
     "text": [
      "3 <-> 8\n"
     ]
    }
   ],
   "execution_count": 14
  },
  {
   "metadata": {
    "ExecuteTime": {
     "end_time": "2025-03-24T23:38:37.461280Z",
     "start_time": "2025-03-24T23:38:37.458139Z"
    }
   },
   "cell_type": "code",
   "source": [
    "# Now, let's calculate the interquartile range\n",
    "\n",
    "print(interquartile_range(values))"
   ],
   "id": "3f21d903db459da3",
   "outputs": [
    {
     "name": "stdout",
     "output_type": "stream",
     "text": [
      "5\n"
     ]
    }
   ],
   "execution_count": 15
  },
  {
   "metadata": {
    "ExecuteTime": {
     "end_time": "2025-03-24T23:39:24.400017Z",
     "start_time": "2025-03-24T23:39:24.395638Z"
    }
   },
   "cell_type": "code",
   "source": [
    "# We can calculate the interquartile range for our defects data (presuming 75% and 25%)\n",
    "\n",
    "interquartile_range(num_defects)"
   ],
   "id": "5f99da3b8b1800de",
   "outputs": [
    {
     "data": {
      "text/plain": [
       "6"
      ]
     },
     "execution_count": 16,
     "metadata": {},
     "output_type": "execute_result"
    }
   ],
   "execution_count": 16
  },
  {
   "metadata": {
    "ExecuteTime": {
     "end_time": "2025-03-25T00:03:54.550551Z",
     "start_time": "2025-03-25T00:03:54.547040Z"
    }
   },
   "cell_type": "code",
   "source": [
    "def mean(values):\n",
    "    \"\"\"\n",
    "    Return the mean (or average) of a sequence of values.\n",
    "\n",
    "    >>> mean([1, 2, 3, 4])\n",
    "    2.5\n",
    "\n",
    "    >>> mean([1, 2, 3, 4, 5])\n",
    "    3.0\n",
    "\n",
    "    \"\"\"\n",
    "    return sum(values) / len(values)"
   ],
   "id": "ff9c394d7efa7056",
   "outputs": [],
   "execution_count": 18
  },
  {
   "metadata": {
    "ExecuteTime": {
     "end_time": "2025-03-25T00:03:55.781392Z",
     "start_time": "2025-03-25T00:03:55.778280Z"
    }
   },
   "cell_type": "code",
   "source": [
    "def diff_mean(values):\n",
    "    \"\"\"\n",
    "    Calculate the difference from the mean for every value in a sequence of values\n",
    "    :param values:\n",
    "    :return:\n",
    "    \"\"\"\n",
    "\n",
    "    x_bar = mean(values)\n",
    "    return [value - x_bar for value in values]"
   ],
   "id": "7b80e9598617679a",
   "outputs": [],
   "execution_count": 19
  },
  {
   "metadata": {
    "ExecuteTime": {
     "end_time": "2025-03-25T00:03:56.836018Z",
     "start_time": "2025-03-25T00:03:56.832039Z"
    }
   },
   "cell_type": "code",
   "source": [
    "def variance(values):\n",
    "    \"\"\"\n",
    "    Return the variance of a sequence of values.\n",
    "\n",
    "    NOTE:  this function presumes that values has a minimum of two elements.\n",
    "    :param values:\n",
    "    :return:\n",
    "    \"\"\"\n",
    "\n",
    "    n = len(values)\n",
    "    deviations = diff_mean(values)\n",
    "    squared_diffs = [d ** 2 for d in deviations]\n",
    "    sum_of_squares = sum(squared_diffs)\n",
    "\n",
    "    return sum_of_squares / n"
   ],
   "id": "981d1c7ff8c05862",
   "outputs": [],
   "execution_count": 20
  },
  {
   "metadata": {},
   "cell_type": "code",
   "outputs": [],
   "execution_count": null,
   "source": "",
   "id": "88c7a99daf337ecd"
  }
 ],
 "metadata": {
  "kernelspec": {
   "display_name": "Python 3",
   "language": "python",
   "name": "python3"
  },
  "language_info": {
   "codemirror_mode": {
    "name": "ipython",
    "version": 2
   },
   "file_extension": ".py",
   "mimetype": "text/x-python",
   "name": "python",
   "nbconvert_exporter": "python",
   "pygments_lexer": "ipython2",
   "version": "2.7.6"
  }
 },
 "nbformat": 4,
 "nbformat_minor": 5
}
